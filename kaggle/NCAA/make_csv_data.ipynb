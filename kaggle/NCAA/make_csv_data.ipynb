{
 "cells": [
  {
   "cell_type": "markdown",
   "metadata": {},
   "source": [
    "## refer to: https://www.kaggle.com/raddar/paris-madness"
   ]
  },
  {
   "cell_type": "markdown",
   "metadata": {},
   "source": [
    "# 1.import libraries"
   ]
  },
  {
   "cell_type": "code",
   "execution_count": 1,
   "metadata": {
    "_cell_guid": "b1076dfc-b9ad-4769-8c92-a6c4dae69d19",
    "_uuid": "8f2839f25d086af736a60e9eeb907d3b93b6e0e5"
   },
   "outputs": [],
   "source": [
    "import numpy as np\n",
    "import pandas as pd\n",
    "import os\n",
    "import xgboost as xgb\n",
    "from sklearn.model_selection import KFold\n",
    "from sklearn.metrics import log_loss\n",
    "from scipy.interpolate import UnivariateSpline\n",
    "import statsmodels.api as sm\n",
    "import matplotlib.pyplot as plt\n",
    "import collections\n",
    "import datetime\n",
    "\n",
    "pd.set_option(\"display.max_column\", 999)\n",
    "# print(os.listdir(\"../input\"))"
   ]
  },
  {
   "cell_type": "markdown",
   "metadata": {
    "_uuid": "afe4811283fd6778ba3b67f2a469ab12b1b74c43"
   },
   "source": [
    "# 2.Load the data!"
   ]
  },
  {
   "cell_type": "code",
   "execution_count": 3,
   "metadata": {},
   "outputs": [],
   "source": [
    "path = '../W/input/google-cloud-ncaa-march-madness-2020-division-1-womens-tournament/WDataFiles_Stage1/'\n",
    "submit_csv_path = '../W/input/google-cloud-ncaa-march-madness-2020-division-1-womens-tournament'\n",
    "output_path = '../output/W/'\n",
    "\n",
    "tourney_results = pd.read_csv(os.path.join(path, 'WNCAATourneyDetailedResults.csv'))\n",
    "seeds = pd.read_csv(os.path.join(path, 'WNCAATourneySeeds.csv'))\n",
    "regular_results = pd.read_csv(os.path.join(path, 'WRegularSeasonDetailedResults.csv'))\n",
    "teams = pd.read_csv(os.path.join(path, 'WTeams.csv'))\n",
    "cities = pd.read_csv(os.path.join(path, 'WGameCities.csv'))\n",
    "wTeamConferences = pd.read_csv(os.path.join(path, 'WTeamConferences.csv'))"
   ]
  },
  {
   "cell_type": "markdown",
   "metadata": {},
   "source": [
    "# 3.Make csv file"
   ]
  },
  {
   "cell_type": "markdown",
   "metadata": {},
   "source": [
    "## Ranking"
   ]
  },
  {
   "cell_type": "code",
   "execution_count": 16,
   "metadata": {
    "scrolled": true
   },
   "outputs": [],
   "source": [
    "result_df = tourney_results[tourney_results.DayNum>=132].sort_values(['Season', 'DayNum'], ascending=False)\n",
    "result_df['place'] = result_df.groupby('Season')['DayNum'].rank(ascending=False, method=\"first\")\n",
    "result_df.place = result_df.place.astype(int)\n",
    "\n",
    "winner_df = result_df[result_df.place==1][['Season', 'WTeamID', 'place']]\n",
    "winner_df.columns.values[1] = 'TeamID'\n",
    "loser_df = result_df[result_df.place<=63][['Season', 'LTeamID', 'place']]\n",
    "loser_df.columns.values[1] = 'TeamID'"
   ]
  },
  {
   "cell_type": "code",
   "execution_count": 17,
   "metadata": {
    "scrolled": true
   },
   "outputs": [],
   "source": [
    "# best2, 4, 8, 16, 32のリストをSeason分作成\n",
    "place_list = []\n",
    "\n",
    "for _ in result_df['Season'].unique():\n",
    "    place_list.extend([2**i for i in range(1, 7) for _ in range(2**(i-1))])\n",
    "loser_df['place'] = place_list"
   ]
  },
  {
   "cell_type": "code",
   "execution_count": 18,
   "metadata": {},
   "outputs": [],
   "source": [
    "ranking_df = pd.concat([winner_df, loser_df], axis=0).sort_values(['Season', 'place']).reset_index(drop=True)\n",
    "ranking_df.to_csv('../W/intermed/WNCAATourneyRanking.csv', index=False)"
   ]
  },
  {
   "cell_type": "code",
   "execution_count": 83,
   "metadata": {
    "scrolled": true
   },
   "outputs": [
    {
     "data": {
      "text/html": [
       "<div>\n",
       "<style scoped>\n",
       "    .dataframe tbody tr th:only-of-type {\n",
       "        vertical-align: middle;\n",
       "    }\n",
       "\n",
       "    .dataframe tbody tr th {\n",
       "        vertical-align: top;\n",
       "    }\n",
       "\n",
       "    .dataframe thead th {\n",
       "        text-align: right;\n",
       "    }\n",
       "</style>\n",
       "<table border=\"1\" class=\"dataframe\">\n",
       "  <thead>\n",
       "    <tr style=\"text-align: right;\">\n",
       "      <th></th>\n",
       "      <th>TeamID</th>\n",
       "      <th>place</th>\n",
       "      <th>Season</th>\n",
       "    </tr>\n",
       "  </thead>\n",
       "  <tbody>\n",
       "    <tr>\n",
       "      <th>0</th>\n",
       "      <td>3101</td>\n",
       "      <td>64</td>\n",
       "      <td>1</td>\n",
       "    </tr>\n",
       "    <tr>\n",
       "      <th>1</th>\n",
       "      <td>3103</td>\n",
       "      <td>64</td>\n",
       "      <td>1</td>\n",
       "    </tr>\n",
       "    <tr>\n",
       "      <th>2</th>\n",
       "      <td>3106</td>\n",
       "      <td>64</td>\n",
       "      <td>2</td>\n",
       "    </tr>\n",
       "    <tr>\n",
       "      <th>3</th>\n",
       "      <td>3107</td>\n",
       "      <td>32</td>\n",
       "      <td>1</td>\n",
       "    </tr>\n",
       "    <tr>\n",
       "      <th>4</th>\n",
       "      <td>3107</td>\n",
       "      <td>64</td>\n",
       "      <td>5</td>\n",
       "    </tr>\n",
       "  </tbody>\n",
       "</table>\n",
       "</div>"
      ],
      "text/plain": [
       "   TeamID  place  Season\n",
       "0    3101     64       1\n",
       "1    3103     64       1\n",
       "2    3106     64       2\n",
       "3    3107     32       1\n",
       "4    3107     64       5"
      ]
     },
     "execution_count": 83,
     "metadata": {},
     "output_type": "execute_result"
    }
   ],
   "source": [
    "# 累積\n",
    "ranking_df.groupby(['TeamID', 'place']).count().reset_index(drop=False).head()"
   ]
  },
  {
   "cell_type": "code",
   "execution_count": 87,
   "metadata": {},
   "outputs": [
    {
     "data": {
      "text/html": [
       "<div>\n",
       "<style scoped>\n",
       "    .dataframe tbody tr th:only-of-type {\n",
       "        vertical-align: middle;\n",
       "    }\n",
       "\n",
       "    .dataframe tbody tr th {\n",
       "        vertical-align: top;\n",
       "    }\n",
       "\n",
       "    .dataframe thead th {\n",
       "        text-align: right;\n",
       "    }\n",
       "</style>\n",
       "<table border=\"1\" class=\"dataframe\">\n",
       "  <thead>\n",
       "    <tr style=\"text-align: right;\">\n",
       "      <th></th>\n",
       "      <th>TeamID</th>\n",
       "      <th>place_1</th>\n",
       "      <th>place_2</th>\n",
       "      <th>place_4</th>\n",
       "      <th>place_8</th>\n",
       "      <th>place_16</th>\n",
       "      <th>place_32</th>\n",
       "      <th>place_64</th>\n",
       "      <th>Season</th>\n",
       "      <th>count</th>\n",
       "    </tr>\n",
       "  </thead>\n",
       "  <tbody>\n",
       "    <tr>\n",
       "      <th>0</th>\n",
       "      <td>3107</td>\n",
       "      <td>0.0</td>\n",
       "      <td>0.0</td>\n",
       "      <td>0.0</td>\n",
       "      <td>0.0</td>\n",
       "      <td>0.0</td>\n",
       "      <td>0.0</td>\n",
       "      <td>1.0</td>\n",
       "      <td>2013</td>\n",
       "      <td>1.0</td>\n",
       "    </tr>\n",
       "    <tr>\n",
       "      <th>1</th>\n",
       "      <td>3113</td>\n",
       "      <td>0.0</td>\n",
       "      <td>0.0</td>\n",
       "      <td>0.0</td>\n",
       "      <td>0.0</td>\n",
       "      <td>0.0</td>\n",
       "      <td>0.0</td>\n",
       "      <td>1.0</td>\n",
       "      <td>2013</td>\n",
       "      <td>1.0</td>\n",
       "    </tr>\n",
       "    <tr>\n",
       "      <th>2</th>\n",
       "      <td>3114</td>\n",
       "      <td>0.0</td>\n",
       "      <td>0.0</td>\n",
       "      <td>0.0</td>\n",
       "      <td>0.0</td>\n",
       "      <td>0.0</td>\n",
       "      <td>1.0</td>\n",
       "      <td>2.0</td>\n",
       "      <td>2013</td>\n",
       "      <td>3.0</td>\n",
       "    </tr>\n",
       "    <tr>\n",
       "      <th>3</th>\n",
       "      <td>3116</td>\n",
       "      <td>0.0</td>\n",
       "      <td>0.0</td>\n",
       "      <td>0.0</td>\n",
       "      <td>0.0</td>\n",
       "      <td>0.0</td>\n",
       "      <td>1.0</td>\n",
       "      <td>0.0</td>\n",
       "      <td>2013</td>\n",
       "      <td>1.0</td>\n",
       "    </tr>\n",
       "    <tr>\n",
       "      <th>4</th>\n",
       "      <td>3122</td>\n",
       "      <td>0.0</td>\n",
       "      <td>0.0</td>\n",
       "      <td>0.0</td>\n",
       "      <td>0.0</td>\n",
       "      <td>0.0</td>\n",
       "      <td>0.0</td>\n",
       "      <td>1.0</td>\n",
       "      <td>2013</td>\n",
       "      <td>1.0</td>\n",
       "    </tr>\n",
       "  </tbody>\n",
       "</table>\n",
       "</div>"
      ],
      "text/plain": [
       "  TeamID  place_1  place_2  place_4  place_8  place_16  place_32  place_64  \\\n",
       "0   3107      0.0      0.0      0.0      0.0       0.0       0.0       1.0   \n",
       "1   3113      0.0      0.0      0.0      0.0       0.0       0.0       1.0   \n",
       "2   3114      0.0      0.0      0.0      0.0       0.0       1.0       2.0   \n",
       "3   3116      0.0      0.0      0.0      0.0       0.0       1.0       0.0   \n",
       "4   3122      0.0      0.0      0.0      0.0       0.0       0.0       1.0   \n",
       "\n",
       "  Season  count  \n",
       "0   2013    1.0  \n",
       "1   2013    1.0  \n",
       "2   2013    3.0  \n",
       "3   2013    1.0  \n",
       "4   2013    1.0  "
      ]
     },
     "execution_count": 87,
     "metadata": {},
     "output_type": "execute_result"
    }
   ],
   "source": [
    "# 直近3年の成績(2013~2019)\n",
    "sum_3y_df = pd.DataFrame(columns=['TeamID', 'place_1', 'place_2', 'place_4', 'place_8', 'place_16', 'place_32', 'place_64', 'Season'])\n",
    "\n",
    "for i in range(2013, 2020):\n",
    "    tmp = ranking_df.loc[(ranking_df.Season==i-1) | (ranking_df.Season == i-2) | (ranking_df.Season == i-3)]\n",
    "    tmp = tmp.groupby(['TeamID', 'place']).count().reset_index(drop=False)\n",
    "    tmp = pd.pivot(tmp, index='TeamID', columns='place', values='Season').reset_index().fillna(0)\n",
    "    tmp.columns = ['TeamID', 'place_1', 'place_2', 'place_4', 'place_8', 'place_16', 'place_32', 'place_64']\n",
    "    tmp['Season'] = i\n",
    "    sum_3y_df = pd.concat([sum_3y_df, tmp], axis=0)\n",
    "sum_3y_df['count'] = sum_3y_df['place_1'] + sum_3y_df['place_2'] + sum_3y_df['place_4'] + sum_3y_df['place_8'] + sum_3y_df['place_16'] + sum_3y_df['place_32'] + sum_3y_df['place_64']\n",
    "sum_3y_df.head()"
   ]
  },
  {
   "cell_type": "code",
   "execution_count": null,
   "metadata": {},
   "outputs": [],
   "source": [
    "# 今後やりたいこと\n",
    "# 監督の実績とシーズンの途中で交代したか、カンファレンスごとにまとめる、レーティング(MasseyOrdinals)\n",
    "# 去年出てた選手がどれだけ出ているか\n",
    "# リーグごとにスコアとかまとめる"
   ]
  },
  {
   "cell_type": "markdown",
   "metadata": {},
   "source": [
    "### Rnking by Conference"
   ]
  },
  {
   "cell_type": "code",
   "execution_count": 4,
   "metadata": {},
   "outputs": [
    {
     "data": {
      "text/html": [
       "<div>\n",
       "<style scoped>\n",
       "    .dataframe tbody tr th:only-of-type {\n",
       "        vertical-align: middle;\n",
       "    }\n",
       "\n",
       "    .dataframe tbody tr th {\n",
       "        vertical-align: top;\n",
       "    }\n",
       "\n",
       "    .dataframe thead th {\n",
       "        text-align: right;\n",
       "    }\n",
       "</style>\n",
       "<table border=\"1\" class=\"dataframe\">\n",
       "  <thead>\n",
       "    <tr style=\"text-align: right;\">\n",
       "      <th></th>\n",
       "      <th>Season</th>\n",
       "      <th>TeamID</th>\n",
       "      <th>place</th>\n",
       "    </tr>\n",
       "  </thead>\n",
       "  <tbody>\n",
       "    <tr>\n",
       "      <th>0</th>\n",
       "      <td>2010</td>\n",
       "      <td>3163</td>\n",
       "      <td>1</td>\n",
       "    </tr>\n",
       "    <tr>\n",
       "      <th>1</th>\n",
       "      <td>2010</td>\n",
       "      <td>3390</td>\n",
       "      <td>2</td>\n",
       "    </tr>\n",
       "    <tr>\n",
       "      <th>2</th>\n",
       "      <td>2010</td>\n",
       "      <td>3124</td>\n",
       "      <td>4</td>\n",
       "    </tr>\n",
       "    <tr>\n",
       "      <th>3</th>\n",
       "      <td>2010</td>\n",
       "      <td>3328</td>\n",
       "      <td>4</td>\n",
       "    </tr>\n",
       "    <tr>\n",
       "      <th>4</th>\n",
       "      <td>2010</td>\n",
       "      <td>3199</td>\n",
       "      <td>8</td>\n",
       "    </tr>\n",
       "  </tbody>\n",
       "</table>\n",
       "</div>"
      ],
      "text/plain": [
       "   Season  TeamID  place\n",
       "0    2010    3163      1\n",
       "1    2010    3390      2\n",
       "2    2010    3124      4\n",
       "3    2010    3328      4\n",
       "4    2010    3199      8"
      ]
     },
     "execution_count": 4,
     "metadata": {},
     "output_type": "execute_result"
    }
   ],
   "source": [
    "rankng_df = pd.read_csv('../W/intermed/WNCAATourneyRanking.csv')\n",
    "rankng_df.head()"
   ]
  },
  {
   "cell_type": "code",
   "execution_count": 5,
   "metadata": {},
   "outputs": [
    {
     "data": {
      "text/html": [
       "<div>\n",
       "<style scoped>\n",
       "    .dataframe tbody tr th:only-of-type {\n",
       "        vertical-align: middle;\n",
       "    }\n",
       "\n",
       "    .dataframe tbody tr th {\n",
       "        vertical-align: top;\n",
       "    }\n",
       "\n",
       "    .dataframe thead th {\n",
       "        text-align: right;\n",
       "    }\n",
       "</style>\n",
       "<table border=\"1\" class=\"dataframe\">\n",
       "  <thead>\n",
       "    <tr style=\"text-align: right;\">\n",
       "      <th></th>\n",
       "      <th>Season</th>\n",
       "      <th>TeamID</th>\n",
       "      <th>ConfAbbrev</th>\n",
       "    </tr>\n",
       "  </thead>\n",
       "  <tbody>\n",
       "    <tr>\n",
       "      <th>0</th>\n",
       "      <td>1998</td>\n",
       "      <td>3102</td>\n",
       "      <td>wac</td>\n",
       "    </tr>\n",
       "    <tr>\n",
       "      <th>1</th>\n",
       "      <td>1998</td>\n",
       "      <td>3103</td>\n",
       "      <td>mac</td>\n",
       "    </tr>\n",
       "    <tr>\n",
       "      <th>2</th>\n",
       "      <td>1998</td>\n",
       "      <td>3104</td>\n",
       "      <td>sec</td>\n",
       "    </tr>\n",
       "    <tr>\n",
       "      <th>3</th>\n",
       "      <td>1998</td>\n",
       "      <td>3106</td>\n",
       "      <td>swac</td>\n",
       "    </tr>\n",
       "    <tr>\n",
       "      <th>4</th>\n",
       "      <td>1998</td>\n",
       "      <td>3108</td>\n",
       "      <td>swac</td>\n",
       "    </tr>\n",
       "  </tbody>\n",
       "</table>\n",
       "</div>"
      ],
      "text/plain": [
       "   Season  TeamID ConfAbbrev\n",
       "0    1998    3102        wac\n",
       "1    1998    3103        mac\n",
       "2    1998    3104        sec\n",
       "3    1998    3106       swac\n",
       "4    1998    3108       swac"
      ]
     },
     "execution_count": 5,
     "metadata": {},
     "output_type": "execute_result"
    }
   ],
   "source": [
    "wTeamConferences.head()"
   ]
  },
  {
   "cell_type": "code",
   "execution_count": 7,
   "metadata": {},
   "outputs": [
    {
     "data": {
      "text/html": [
       "<div>\n",
       "<style scoped>\n",
       "    .dataframe tbody tr th:only-of-type {\n",
       "        vertical-align: middle;\n",
       "    }\n",
       "\n",
       "    .dataframe tbody tr th {\n",
       "        vertical-align: top;\n",
       "    }\n",
       "\n",
       "    .dataframe thead th {\n",
       "        text-align: right;\n",
       "    }\n",
       "</style>\n",
       "<table border=\"1\" class=\"dataframe\">\n",
       "  <thead>\n",
       "    <tr style=\"text-align: right;\">\n",
       "      <th></th>\n",
       "      <th>Season</th>\n",
       "      <th>TeamID</th>\n",
       "      <th>place</th>\n",
       "      <th>ConfAbbrev</th>\n",
       "    </tr>\n",
       "  </thead>\n",
       "  <tbody>\n",
       "    <tr>\n",
       "      <th>0</th>\n",
       "      <td>2010</td>\n",
       "      <td>3163</td>\n",
       "      <td>1</td>\n",
       "      <td>big_east</td>\n",
       "    </tr>\n",
       "    <tr>\n",
       "      <th>1</th>\n",
       "      <td>2010</td>\n",
       "      <td>3390</td>\n",
       "      <td>2</td>\n",
       "      <td>pac_ten</td>\n",
       "    </tr>\n",
       "    <tr>\n",
       "      <th>2</th>\n",
       "      <td>2010</td>\n",
       "      <td>3124</td>\n",
       "      <td>4</td>\n",
       "      <td>big_twelve</td>\n",
       "    </tr>\n",
       "    <tr>\n",
       "      <th>3</th>\n",
       "      <td>2010</td>\n",
       "      <td>3328</td>\n",
       "      <td>4</td>\n",
       "      <td>big_twelve</td>\n",
       "    </tr>\n",
       "    <tr>\n",
       "      <th>4</th>\n",
       "      <td>2010</td>\n",
       "      <td>3199</td>\n",
       "      <td>8</td>\n",
       "      <td>acc</td>\n",
       "    </tr>\n",
       "  </tbody>\n",
       "</table>\n",
       "</div>"
      ],
      "text/plain": [
       "   Season  TeamID  place  ConfAbbrev\n",
       "0    2010    3163      1    big_east\n",
       "1    2010    3390      2     pac_ten\n",
       "2    2010    3124      4  big_twelve\n",
       "3    2010    3328      4  big_twelve\n",
       "4    2010    3199      8         acc"
      ]
     },
     "execution_count": 7,
     "metadata": {},
     "output_type": "execute_result"
    }
   ],
   "source": [
    "join_df = pd.merge(rankng_df, wTeamConferences, on=['Season', 'TeamID'], how='left')\n",
    "join_df.head()"
   ]
  },
  {
   "cell_type": "code",
   "execution_count": null,
   "metadata": {},
   "outputs": [],
   "source": []
  },
  {
   "cell_type": "markdown",
   "metadata": {},
   "source": [
    "## Team by Conference 失敗したああ"
   ]
  },
  {
   "cell_type": "code",
   "execution_count": 48,
   "metadata": {},
   "outputs": [
    {
     "data": {
      "text/plain": [
       "365"
      ]
     },
     "execution_count": 48,
     "metadata": {},
     "output_type": "execute_result"
    }
   ],
   "source": [
    "teams = pd.read_csv(os.path.join(path, 'WTeams.csv'))\n",
    "len(teams)"
   ]
  },
  {
   "cell_type": "code",
   "execution_count": 3,
   "metadata": {},
   "outputs": [],
   "source": [
    "match_df = regular_results[['Season', 'WTeamID', 'LTeamID']]\n",
    "match_df.columns = ['Season', 'T1_TeamID', 'T2_TeamID']\n",
    "\n",
    "swap_df = match_df.copy()[['Season', 'T2_TeamID', 'T1_TeamID']]\n",
    "swap_df.columns = ['Season', 'T1_TeamID', 'T2_TeamID']\n",
    "match_df = pd.concat([match_df, swap_df], axis=0).drop_duplicates().reset_index(drop=True)"
   ]
  },
  {
   "cell_type": "code",
   "execution_count": 49,
   "metadata": {},
   "outputs": [],
   "source": [
    "match_dict = {}\n",
    "\n",
    "for year in match_df['Season'].unique():\n",
    "    match_dict[year] = {}\n",
    "    df = match_df[match_df.Season==year]\n",
    "    for teamID in df['T1_TeamID'].unique():\n",
    "        match_dict[year][teamID] = set(df[df.T1_TeamID==teamID]['T2_TeamID'])"
   ]
  },
  {
   "cell_type": "code",
   "execution_count": 41,
   "metadata": {},
   "outputs": [],
   "source": [
    "key_num = 0\n",
    "conference_dict = {}\n",
    "\n",
    "for year in match_dict.keys():\n",
    "    conference_dict[year] = {}\n",
    "    for x in match_dict[year].keys():\n",
    "        tmp = list(match_dict[year][x])\n",
    "        tmp.append(x)\n",
    "        for y in match_dict[year].keys():\n",
    "            if x!=y:\n",
    "                if len(set(tmp).intersection(match_dict[year][y]))>0:\n",
    "                    tmp.extend(list(match_dict[year][y]))\n",
    "        conference = set(tmp)\n",
    "        same_flg = 0\n",
    "        for z in conference_dict[year].keys():\n",
    "            if conference==conference_dict[year][z]:\n",
    "                same_flg=1\n",
    "        if same_flg==0:\n",
    "            key_num += 1\n",
    "            conference_dict[year][key_num] = conference"
   ]
  },
  {
   "cell_type": "code",
   "execution_count": null,
   "metadata": {},
   "outputs": [],
   "source": []
  }
 ],
 "metadata": {
  "kernelspec": {
   "display_name": "Python 3",
   "language": "python",
   "name": "python3"
  },
  "language_info": {
   "codemirror_mode": {
    "name": "ipython",
    "version": 3
   },
   "file_extension": ".py",
   "mimetype": "text/x-python",
   "name": "python",
   "nbconvert_exporter": "python",
   "pygments_lexer": "ipython3",
   "version": "3.7.2"
  }
 },
 "nbformat": 4,
 "nbformat_minor": 1
}
